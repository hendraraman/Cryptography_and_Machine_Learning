{
 "cells": [
  {
   "cell_type": "code",
   "execution_count": 1,
   "id": "c73599bc",
   "metadata": {},
   "outputs": [],
   "source": [
    "import numpy as np\n",
    "import math\n",
    "import pandas as pd\n",
    "import random\n",
    "import string\n",
    "import PyPDF2\n",
    "import re"
   ]
  },
  {
   "cell_type": "code",
   "execution_count": 2,
   "id": "db2657af",
   "metadata": {},
   "outputs": [],
   "source": [
    "# # Completing the dictionary for letter-to-number mapping\n",
    "# letter_to_number_lookup = {\n",
    "#     'a': 0,\n",
    "#     'b': 1,\n",
    "#     'c': 2,\n",
    "#     'd': 3,\n",
    "#     'e': 4,\n",
    "#     'f': 5,\n",
    "#     'g': 6,\n",
    "#     'h': 7,\n",
    "#     'i': 8,\n",
    "#     'j': 9,\n",
    "#     'k': 10,\n",
    "#     'l': 11,\n",
    "#     'm': 12,\n",
    "#     'n': 13,\n",
    "#     'o': 14,\n",
    "#     'p': 15,\n",
    "#     'q': 16,\n",
    "#     'r': 17,\n",
    "#     's': 18,\n",
    "#     't': 19,\n",
    "#     'u': 20,\n",
    "#     'v': 21,\n",
    "#     'w': 22,\n",
    "#     'x': 23,\n",
    "#     'y': 24,\n",
    "#     'z': 25, \n",
    "#     '@' : 26\n",
    "# }\n",
    "\n"
   ]
  },
  {
   "cell_type": "code",
   "execution_count": 3,
   "id": "65cf370a",
   "metadata": {},
   "outputs": [],
   "source": [
    "\n",
    "\n",
    "def cipher_generation(matrix, key):\n",
    "    \"\"\"\n",
    "    inputs : matrix, key of length  matrix's columns \n",
    "    output : cipher text\n",
    "    \"\"\"\n",
    "#     print(\" the matrix i got is \\n\",matrix)\n",
    "\n",
    "    sorted_key = sorted(key)\n",
    "#     print(\"sorted key \",sorted_key)\n",
    "    cipher_text = \"\"\n",
    "    for k in sorted_key:\n",
    "#         print(\"the column is \",k)\n",
    "#         print(\"now it appends \",matrix.loc[:,k].sum())\n",
    "#         print(\"\")\n",
    "        cipher_text += matrix.loc[:,k].sum()\n",
    "\n",
    "    return cipher_text\n"
   ]
  },
  {
   "cell_type": "code",
   "execution_count": 4,
   "id": "a33789f2",
   "metadata": {},
   "outputs": [],
   "source": [
    "def matrix_creation_for_plaintext(plaintext, key):\n",
    "    \"\"\"\n",
    "    inputs : plaintext of type string, n ---> number of rows, m ---> number of columns\n",
    "    \n",
    "    output : returns matrix of type numpy array \n",
    "    \"\"\"\n",
    "    m = 10\n",
    "    \n",
    "    n = 8\n",
    "\n",
    "    matrix = np.empty((n, m), dtype=str) # creating a n,m dimension matrix\n",
    "\n",
    "    plaintext = plaintext.lower().replace(\" \", \"\")\n",
    "    curr = 0\n",
    "    for i in range(n):   # rows\n",
    "        for j in range(m):   # columns\n",
    "            if curr < len(plaintext):\n",
    "                matrix[i][j] = plaintext[curr]\n",
    "                curr += 1\n",
    "            else :\n",
    "                matrix[i][j] = 'z'\n",
    "                curr +=1\n",
    "    \n",
    "    key_lst = [k for k in key]\n",
    "    df = pd.DataFrame(matrix, columns = key_lst)\n",
    "    return df\n",
    "    \n",
    "def key_giver():\n",
    "    \"\"\"\n",
    "    inputs : None\n",
    "    output : key of size 10\n",
    "    \"\"\"\n",
    "    alphabets = list(string.ascii_lowercase)\n",
    "    \n",
    "    unique_key = random.sample(alphabets, 10)\n",
    "    \n",
    "    while len(set(unique_key)) != 10:\n",
    "            unique_key = random.sample(alphabets, 10)\n",
    "    return unique_key\n",
    "    \n",
    "def read_my_pdf(file_path):\n",
    "    \"\"\"\n",
    "    uses pypdf2 library to read \n",
    "    inputs : file_path\n",
    "    and returns the text\n",
    "    \"\"\"\n",
    "    with open(file_path,'rb') as file:\n",
    "        pdf_reader = PyPDF2.PdfReader(file)\n",
    "        text = ''\n",
    "        for page_num in range(len(pdf_reader.pages)):\n",
    "            page = pdf_reader.pages[page_num]\n",
    "#             reader.pages[page_number]\n",
    "            text += page.extract_text()\n",
    "    return text\n",
    "\n",
    "def read_text(file_path):\n",
    "    with open(file_path, 'r', encoding = \"utf-8\") as file:\n",
    "        text = file.read()\n",
    "    return text\n",
    "\n",
    "def split_text_into_chunks(text):\n",
    "    min_chunk_length = 70\n",
    "    max_chunk_length=80\n",
    "    # Use regex to split the text at spaces or periods while ensuring the chunk length is less than the specified maximum\n",
    "    chunks = re.findall(r'\\S.{%d,%d}(?:\\s|$|[.])' % (min_chunk_length - 1, max_chunk_length - 1), text)\n",
    "    return chunks"
   ]
  },
  {
   "cell_type": "code",
   "execution_count": 5,
   "id": "cbe2a559",
   "metadata": {},
   "outputs": [
    {
     "data": {
      "text/html": [
       "<div>\n",
       "<style scoped>\n",
       "    .dataframe tbody tr th:only-of-type {\n",
       "        vertical-align: middle;\n",
       "    }\n",
       "\n",
       "    .dataframe tbody tr th {\n",
       "        vertical-align: top;\n",
       "    }\n",
       "\n",
       "    .dataframe thead th {\n",
       "        text-align: right;\n",
       "    }\n",
       "</style>\n",
       "<table border=\"1\" class=\"dataframe\">\n",
       "  <thead>\n",
       "    <tr style=\"text-align: right;\">\n",
       "      <th></th>\n",
       "      <th>n</th>\n",
       "      <th>p</th>\n",
       "      <th>h</th>\n",
       "      <th>l</th>\n",
       "      <th>w</th>\n",
       "      <th>v</th>\n",
       "      <th>u</th>\n",
       "      <th>q</th>\n",
       "      <th>m</th>\n",
       "      <th>z</th>\n",
       "    </tr>\n",
       "  </thead>\n",
       "  <tbody>\n",
       "    <tr>\n",
       "      <th>0</th>\n",
       "      <td>o</td>\n",
       "      <td>n</td>\n",
       "      <td>c</td>\n",
       "      <td>e</td>\n",
       "      <td>u</td>\n",
       "      <td>p</td>\n",
       "      <td>o</td>\n",
       "      <td>n</td>\n",
       "      <td>a</td>\n",
       "      <td>t</td>\n",
       "    </tr>\n",
       "    <tr>\n",
       "      <th>1</th>\n",
       "      <td>i</td>\n",
       "      <td>m</td>\n",
       "      <td>e</td>\n",
       "      <td>t</td>\n",
       "      <td>h</td>\n",
       "      <td>e</td>\n",
       "      <td>r</td>\n",
       "      <td>e</td>\n",
       "      <td>l</td>\n",
       "      <td>i</td>\n",
       "    </tr>\n",
       "    <tr>\n",
       "      <th>2</th>\n",
       "      <td>v</td>\n",
       "      <td>e</td>\n",
       "      <td>d</td>\n",
       "      <td>a</td>\n",
       "      <td>g</td>\n",
       "      <td>h</td>\n",
       "      <td>o</td>\n",
       "      <td>s</td>\n",
       "      <td>t</td>\n",
       "      <td>.</td>\n",
       "    </tr>\n",
       "    <tr>\n",
       "      <th>3</th>\n",
       "      <td>h</td>\n",
       "      <td>e</td>\n",
       "      <td>i</td>\n",
       "      <td>s</td>\n",
       "      <td>n</td>\n",
       "      <td>o</td>\n",
       "      <td>t</td>\n",
       "      <td>a</td>\n",
       "      <td>m</td>\n",
       "      <td>y</td>\n",
       "    </tr>\n",
       "    <tr>\n",
       "      <th>4</th>\n",
       "      <td>t</td>\n",
       "      <td>h</td>\n",
       "      <td>a</td>\n",
       "      <td>n</td>\n",
       "      <td>y</td>\n",
       "      <td>m</td>\n",
       "      <td>o</td>\n",
       "      <td>r</td>\n",
       "      <td>e</td>\n",
       "      <td>!</td>\n",
       "    </tr>\n",
       "    <tr>\n",
       "      <th>5</th>\n",
       "      <td>a</td>\n",
       "      <td>b</td>\n",
       "      <td>r</td>\n",
       "      <td>a</td>\n",
       "      <td>k</td>\n",
       "      <td>a</td>\n",
       "      <td>d</td>\n",
       "      <td>a</td>\n",
       "      <td>b</td>\n",
       "      <td>r</td>\n",
       "    </tr>\n",
       "    <tr>\n",
       "      <th>6</th>\n",
       "      <td>a</td>\n",
       "      <td>.</td>\n",
       "      <td>i</td>\n",
       "      <td>a</td>\n",
       "      <td>m</td>\n",
       "      <td>b</td>\n",
       "      <td>a</td>\n",
       "      <td>t</td>\n",
       "      <td>m</td>\n",
       "      <td>a</td>\n",
       "    </tr>\n",
       "    <tr>\n",
       "      <th>7</th>\n",
       "      <td>n</td>\n",
       "      <td>z</td>\n",
       "      <td>z</td>\n",
       "      <td>z</td>\n",
       "      <td>z</td>\n",
       "      <td>z</td>\n",
       "      <td>z</td>\n",
       "      <td>z</td>\n",
       "      <td>z</td>\n",
       "      <td>z</td>\n",
       "    </tr>\n",
       "  </tbody>\n",
       "</table>\n",
       "</div>"
      ],
      "text/plain": [
       "   n  p  h  l  w  v  u  q  m  z\n",
       "0  o  n  c  e  u  p  o  n  a  t\n",
       "1  i  m  e  t  h  e  r  e  l  i\n",
       "2  v  e  d  a  g  h  o  s  t  .\n",
       "3  h  e  i  s  n  o  t  a  m  y\n",
       "4  t  h  a  n  y  m  o  r  e  !\n",
       "5  a  b  r  a  k  a  d  a  b  r\n",
       "6  a  .  i  a  m  b  a  t  m  a\n",
       "7  n  z  z  z  z  z  z  z  z  z"
      ]
     },
     "execution_count": 5,
     "metadata": {},
     "output_type": "execute_result"
    }
   ],
   "source": [
    "\n",
    "key = key_giver()\n",
    "plaintext = \"onceupon a time there lived a ghost . he is  not a myth anymore ! abrakadabra . i am batman\"\n",
    "matrix_plaintext = matrix_creation_for_plaintext(plaintext,key)\n",
    "cipher_text = cipher_generation(matrix_plaintext, key)\n",
    "matrix_plaintext\n"
   ]
  },
  {
   "cell_type": "code",
   "execution_count": 6,
   "id": "c4d265c7",
   "metadata": {},
   "outputs": [
    {
     "data": {
      "text/plain": [
       "80"
      ]
     },
     "execution_count": 6,
     "metadata": {},
     "output_type": "execute_result"
    }
   ],
   "source": [
    "matrix_plaintext\n",
    "type(cipher_text)\n",
    "len(cipher_text)\n",
    "# len(plaintext)"
   ]
  },
  {
   "cell_type": "code",
   "execution_count": 7,
   "id": "87715c6d",
   "metadata": {},
   "outputs": [
    {
     "data": {
      "text/plain": [
       "'cediarizetasnaazaltmebmzoivhtaannmeehb.znesaratzorotodazpehomabzuhgnykmzti.y!raz'"
      ]
     },
     "execution_count": 7,
     "metadata": {},
     "output_type": "execute_result"
    }
   ],
   "source": [
    "matrix_plaintext\n",
    "cipher_text"
   ]
  },
  {
   "cell_type": "code",
   "execution_count": 8,
   "id": "a7a76b5f",
   "metadata": {},
   "outputs": [],
   "source": [
    "file_path = \"all books\"+\".txt\""
   ]
  },
  {
   "cell_type": "code",
   "execution_count": 9,
   "id": "927a8648",
   "metadata": {},
   "outputs": [
    {
     "data": {
      "text/plain": [
       "['o', 'b', 'x', 'y', 'u', 'd', 'i', 'w', 'c', 'r']"
      ]
     },
     "execution_count": 9,
     "metadata": {},
     "output_type": "execute_result"
    }
   ],
   "source": [
    "key_giver()"
   ]
  },
  {
   "cell_type": "code",
   "execution_count": null,
   "id": "6e3de63a",
   "metadata": {},
   "outputs": [],
   "source": []
  },
  {
   "cell_type": "code",
   "execution_count": 55,
   "id": "814d7d5e",
   "metadata": {},
   "outputs": [],
   "source": [
    "# all_text = read_my_pdf(file_path)\n",
    "all_text = read_text(file_path)"
   ]
  },
  {
   "cell_type": "code",
   "execution_count": 56,
   "id": "41a82db6",
   "metadata": {},
   "outputs": [],
   "source": [
    "text_chunks = split_text_into_chunks(all_text)"
   ]
  },
  {
   "cell_type": "code",
   "execution_count": 57,
   "id": "eb0e5028",
   "metadata": {},
   "outputs": [
    {
     "data": {
      "text/plain": [
       "112737"
      ]
     },
     "execution_count": 57,
     "metadata": {},
     "output_type": "execute_result"
    }
   ],
   "source": [
    "len(text_chunks)\n"
   ]
  },
  {
   "cell_type": "code",
   "execution_count": null,
   "id": "9c0e0a07",
   "metadata": {},
   "outputs": [],
   "source": []
  },
  {
   "cell_type": "code",
   "execution_count": 58,
   "id": "2ac3a06c",
   "metadata": {},
   "outputs": [
    {
     "data": {
      "text/html": [
       "<div>\n",
       "<style scoped>\n",
       "    .dataframe tbody tr th:only-of-type {\n",
       "        vertical-align: middle;\n",
       "    }\n",
       "\n",
       "    .dataframe tbody tr th {\n",
       "        vertical-align: top;\n",
       "    }\n",
       "\n",
       "    .dataframe thead th {\n",
       "        text-align: right;\n",
       "    }\n",
       "</style>\n",
       "<table border=\"1\" class=\"dataframe\">\n",
       "  <thead>\n",
       "    <tr style=\"text-align: right;\">\n",
       "      <th></th>\n",
       "      <th>cipher_text</th>\n",
       "      <th>label</th>\n",
       "    </tr>\n",
       "  </thead>\n",
       "  <tbody>\n",
       "    <tr>\n",
       "      <th>0</th>\n",
       "      <td>htnioozztsdnsczzpwoas\\nzzrecheszzooadttzzehotr...</td>\n",
       "      <td>1</td>\n",
       "    </tr>\n",
       "    <tr>\n",
       "      <th>1</th>\n",
       "      <td>hyiweezztu,ytezzvceee\\nzzrptutzzzoairnmzzeoi-r...</td>\n",
       "      <td>1</td>\n",
       "    </tr>\n",
       "    <tr>\n",
       "      <th>2</th>\n",
       "      <td>,oek,rzzdwgvetzzhmhsvozzefbashzzue,eltzzrrnwer...</td>\n",
       "      <td>1</td>\n",
       "    </tr>\n",
       "    <tr>\n",
       "      <th>3</th>\n",
       "      <td>noyitzzz’,maaizzlsaeg\\nzziwstehzzohtnhzzzallwo...</td>\n",
       "      <td>1</td>\n",
       "    </tr>\n",
       "    <tr>\n",
       "      <th>4</th>\n",
       "      <td>eaiaiezzddmswzzzhmeetszzhhtneezz,fodatzzassa;h...</td>\n",
       "      <td>1</td>\n",
       "    </tr>\n",
       "    <tr>\n",
       "      <th>...</th>\n",
       "      <td>...</td>\n",
       "      <td>...</td>\n",
       "    </tr>\n",
       "    <tr>\n",
       "      <th>112732</th>\n",
       "      <td>nnttrieztuwhrsazdnoaugizcneyikzzaobgon—zueoaeb...</td>\n",
       "      <td>1</td>\n",
       "    </tr>\n",
       "    <tr>\n",
       "      <th>112733</th>\n",
       "      <td>heeiddzzwii,etzzoftovtzzoieeuzzzduanfezzlohinb...</td>\n",
       "      <td>1</td>\n",
       "    </tr>\n",
       "    <tr>\n",
       "      <th>112734</th>\n",
       "      <td>cltrnazzduyytmozevshhazz,ehoetzzmworgonzeorehr...</td>\n",
       "      <td>1</td>\n",
       "    </tr>\n",
       "    <tr>\n",
       "      <th>112735</th>\n",
       "      <td>noinnozzrhdieurzigatihdzeiinrtezatetvorzornegu...</td>\n",
       "      <td>1</td>\n",
       "    </tr>\n",
       "    <tr>\n",
       "      <th>112736</th>\n",
       "      <td>oifrhrzzo.ruehzzktaotatzni,fesaztrtlsorzhwilar...</td>\n",
       "      <td>1</td>\n",
       "    </tr>\n",
       "  </tbody>\n",
       "</table>\n",
       "<p>112737 rows × 2 columns</p>\n",
       "</div>"
      ],
      "text/plain": [
       "                                              cipher_text  label\n",
       "0       htnioozztsdnsczzpwoas\\nzzrecheszzooadttzzehotr...      1\n",
       "1       hyiweezztu,ytezzvceee\\nzzrptutzzzoairnmzzeoi-r...      1\n",
       "2       ,oek,rzzdwgvetzzhmhsvozzefbashzzue,eltzzrrnwer...      1\n",
       "3       noyitzzz’,maaizzlsaeg\\nzziwstehzzohtnhzzzallwo...      1\n",
       "4       eaiaiezzddmswzzzhmeetszzhhtneezz,fodatzzassa;h...      1\n",
       "...                                                   ...    ...\n",
       "112732  nnttrieztuwhrsazdnoaugizcneyikzzaobgon—zueoaeb...      1\n",
       "112733  heeiddzzwii,etzzoftovtzzoieeuzzzduanfezzlohinb...      1\n",
       "112734  cltrnazzduyytmozevshhazz,ehoetzzmworgonzeorehr...      1\n",
       "112735  noinnozzrhdieurzigatihdzeiinrtezatetvorzornegu...      1\n",
       "112736  oifrhrzzo.ruehzzktaotatzni,fesaztrtlsorzhwilar...      1\n",
       "\n",
       "[112737 rows x 2 columns]"
      ]
     },
     "execution_count": 58,
     "metadata": {},
     "output_type": "execute_result"
    }
   ],
   "source": [
    "i = 0\n",
    "all_cipher = []\n",
    "for plaintext in text_chunks:\n",
    "    key = key_giver()\n",
    "    matrix_plaintext = matrix_creation_for_plaintext(plaintext,key)\n",
    "    cipher_text = cipher_generation(matrix_plaintext, key)\n",
    "    all_cipher.append([cipher_text,1])\n",
    "    i += 1\n",
    "    \n",
    "    \n",
    "cipher_df =pd.DataFrame(all_cipher,columns = [\"cipher_text\", \"label\"])\n",
    "cipher_df\n",
    "    \n",
    "    \n",
    "    \n",
    "#     print(type(curr))\n",
    "#     print(\" next \\n \\n\")\n"
   ]
  },
  {
   "cell_type": "code",
   "execution_count": 59,
   "id": "2e2d57e7",
   "metadata": {},
   "outputs": [],
   "source": [
    "# 6 books now \n",
    "# romeo julilet , alice adv, Dracula, pride and prejudice, frankinstein, sherlock (adventures)\n",
    "cipher_df.to_pickle(\"cipher_df.pkl\")"
   ]
  },
  {
   "cell_type": "code",
   "execution_count": 67,
   "id": "d553c498",
   "metadata": {},
   "outputs": [],
   "source": [
    "maybe = cipher_df.iloc[:50000,:]"
   ]
  },
  {
   "cell_type": "code",
   "execution_count": 69,
   "id": "d5c6ea89",
   "metadata": {},
   "outputs": [],
   "source": [
    "maybe.to_pickle(\"cipher_df2.pkl\")"
   ]
  },
  {
   "cell_type": "code",
   "execution_count": 60,
   "id": "a0ed3682",
   "metadata": {},
   "outputs": [
    {
     "data": {
      "text/plain": [
       "2965222"
      ]
     },
     "execution_count": 60,
     "metadata": {},
     "output_type": "execute_result"
    }
   ],
   "source": [
    "len(all_text.split(\" \"))"
   ]
  },
  {
   "cell_type": "code",
   "execution_count": 10,
   "id": "20234d43",
   "metadata": {},
   "outputs": [],
   "source": [
    "df = pd.read_pickle(\"cipher_df2.pkl\")"
   ]
  },
  {
   "cell_type": "code",
   "execution_count": 11,
   "id": "5620aa80",
   "metadata": {},
   "outputs": [
    {
     "data": {
      "text/plain": [
       "(50000, 2)"
      ]
     },
     "execution_count": 11,
     "metadata": {},
     "output_type": "execute_result"
    }
   ],
   "source": [
    "df.shape"
   ]
  },
  {
   "cell_type": "code",
   "execution_count": 12,
   "id": "12ff98aa",
   "metadata": {},
   "outputs": [
    {
     "data": {
      "text/plain": [
       "80"
      ]
     },
     "execution_count": 12,
     "metadata": {},
     "output_type": "execute_result"
    }
   ],
   "source": [
    "len(df.head(1).cipher_text.values[0])"
   ]
  },
  {
   "cell_type": "code",
   "execution_count": 13,
   "id": "6e0bb844",
   "metadata": {},
   "outputs": [
    {
     "data": {
      "text/plain": [
       "(50000, 2)"
      ]
     },
     "execution_count": 13,
     "metadata": {},
     "output_type": "execute_result"
    }
   ],
   "source": [
    "df_random = pd.read_csv(\"random_words.csv\")\n",
    "df_random.shape"
   ]
  },
  {
   "cell_type": "code",
   "execution_count": null,
   "id": "1fbc9b71",
   "metadata": {},
   "outputs": [],
   "source": []
  },
  {
   "cell_type": "code",
   "execution_count": 14,
   "id": "3c296c45",
   "metadata": {},
   "outputs": [
    {
     "data": {
      "text/plain": [
       "Index(['CipherText', 'Label'], dtype='object')"
      ]
     },
     "execution_count": 14,
     "metadata": {},
     "output_type": "execute_result"
    }
   ],
   "source": [
    "df_random.columns"
   ]
  },
  {
   "cell_type": "code",
   "execution_count": 15,
   "id": "0af14eee",
   "metadata": {},
   "outputs": [],
   "source": [
    "df_random = df_random.rename(columns = {\"CipherText\" : \"cipher_text\"})\n",
    "df_random = df_random.rename(columns = {\"Label\" : \"label\"})\n"
   ]
  },
  {
   "cell_type": "code",
   "execution_count": 16,
   "id": "509ec658",
   "metadata": {},
   "outputs": [],
   "source": [
    "df_all = pd.concat([df,df_random], ignore_index= True)"
   ]
  },
  {
   "cell_type": "code",
   "execution_count": 17,
   "id": "da334400",
   "metadata": {},
   "outputs": [
    {
     "data": {
      "text/plain": [
       "label\n",
       "1    50000\n",
       "0    50000\n",
       "Name: count, dtype: int64"
      ]
     },
     "execution_count": 17,
     "metadata": {},
     "output_type": "execute_result"
    }
   ],
   "source": [
    "df_all[\"label\"].value_counts()\n",
    "# df_all = df_all.iloc[:-5500]"
   ]
  },
  {
   "cell_type": "code",
   "execution_count": 18,
   "id": "e20be5c6",
   "metadata": {},
   "outputs": [],
   "source": [
    "def split_string(row):\n",
    "    return pd.Series(list(row['cipher_text']))\n",
    "\n",
    "# Apply the function to create new columns for each letter\n",
    "df_letters = df_all.apply(split_string, axis=1)\n",
    "\n",
    "# Concatenate the new columns with the original DataFrame\n",
    "df_all = pd.concat([df_all, df_letters], axis=1)"
   ]
  },
  {
   "cell_type": "code",
   "execution_count": null,
   "id": "a3abdf3c",
   "metadata": {},
   "outputs": [],
   "source": []
  },
  {
   "cell_type": "code",
   "execution_count": 19,
   "id": "ce979bbf",
   "metadata": {},
   "outputs": [],
   "source": [
    "from sklearn.model_selection import train_test_split\n",
    "from sklearn.ensemble import RandomForestClassifier\n",
    "from sklearn.metrics import accuracy_score\n",
    "from sklearn.feature_extraction.text import CountVectorizer"
   ]
  },
  {
   "cell_type": "code",
   "execution_count": 20,
   "id": "a0da4c98",
   "metadata": {},
   "outputs": [
    {
     "data": {
      "text/plain": [
       "Index([ 0,  1,  2,  3,  4,  5,  6,  7,  8,  9, 10, 11, 12, 13, 14, 15, 16, 17,\n",
       "       18, 19, 20, 21, 22, 23, 24, 25, 26, 27, 28, 29, 30, 31, 32, 33, 34, 35,\n",
       "       36, 37, 38, 39, 40, 41, 42, 43, 44, 45, 46, 47, 48, 49, 50, 51, 52, 53,\n",
       "       54, 55, 56, 57, 58, 59, 60, 61, 62, 63, 64, 65, 66, 67, 68, 69, 70, 71,\n",
       "       72, 73, 74, 75, 76, 77, 78, 79],\n",
       "      dtype='object')"
      ]
     },
     "execution_count": 20,
     "metadata": {},
     "output_type": "execute_result"
    }
   ],
   "source": [
    "df_all.columns[2:]"
   ]
  },
  {
   "cell_type": "code",
   "execution_count": 21,
   "id": "d11b2523",
   "metadata": {},
   "outputs": [
    {
     "data": {
      "text/html": [
       "<div>\n",
       "<style scoped>\n",
       "    .dataframe tbody tr th:only-of-type {\n",
       "        vertical-align: middle;\n",
       "    }\n",
       "\n",
       "    .dataframe tbody tr th {\n",
       "        vertical-align: top;\n",
       "    }\n",
       "\n",
       "    .dataframe thead th {\n",
       "        text-align: right;\n",
       "    }\n",
       "</style>\n",
       "<table border=\"1\" class=\"dataframe\">\n",
       "  <thead>\n",
       "    <tr style=\"text-align: right;\">\n",
       "      <th></th>\n",
       "      <th>cipher_text</th>\n",
       "      <th>label</th>\n",
       "      <th>0</th>\n",
       "      <th>1</th>\n",
       "      <th>2</th>\n",
       "      <th>3</th>\n",
       "      <th>4</th>\n",
       "      <th>5</th>\n",
       "      <th>6</th>\n",
       "      <th>7</th>\n",
       "      <th>...</th>\n",
       "      <th>70</th>\n",
       "      <th>71</th>\n",
       "      <th>72</th>\n",
       "      <th>73</th>\n",
       "      <th>74</th>\n",
       "      <th>75</th>\n",
       "      <th>76</th>\n",
       "      <th>77</th>\n",
       "      <th>78</th>\n",
       "      <th>79</th>\n",
       "    </tr>\n",
       "  </thead>\n",
       "  <tbody>\n",
       "    <tr>\n",
       "      <th>99995</th>\n",
       "      <td>ZqPx3hkvr3w5,Hq9IA5lDlnuiI!uBWfjMD9w64b,HfO1HE...</td>\n",
       "      <td>0</td>\n",
       "      <td>Z</td>\n",
       "      <td>q</td>\n",
       "      <td>P</td>\n",
       "      <td>x</td>\n",
       "      <td>3</td>\n",
       "      <td>h</td>\n",
       "      <td>k</td>\n",
       "      <td>v</td>\n",
       "      <td>...</td>\n",
       "      <td>c</td>\n",
       "      <td>H</td>\n",
       "      <td>A</td>\n",
       "      <td>r</td>\n",
       "      <td>T</td>\n",
       "      <td>g</td>\n",
       "      <td>f</td>\n",
       "      <td>z</td>\n",
       "      <td>o</td>\n",
       "      <td>v</td>\n",
       "    </tr>\n",
       "    <tr>\n",
       "      <th>99996</th>\n",
       "      <td>g8APjdehQlQosp7C,tWEhwNjbaN.ao?6?N.B9;vf.jMZY....</td>\n",
       "      <td>0</td>\n",
       "      <td>g</td>\n",
       "      <td>8</td>\n",
       "      <td>A</td>\n",
       "      <td>P</td>\n",
       "      <td>j</td>\n",
       "      <td>d</td>\n",
       "      <td>e</td>\n",
       "      <td>h</td>\n",
       "      <td>...</td>\n",
       "      <td>4</td>\n",
       "      <td>X</td>\n",
       "      <td>;</td>\n",
       "      <td>v</td>\n",
       "      <td>U</td>\n",
       "      <td>c</td>\n",
       "      <td>9</td>\n",
       "      <td>v</td>\n",
       "      <td>n</td>\n",
       "      <td>e</td>\n",
       "    </tr>\n",
       "    <tr>\n",
       "      <th>99997</th>\n",
       "      <td>LUDb4dRuM2IOsZ!iWlr.WrIFCbUafQc5Sr5VJ,NYr6xtkF...</td>\n",
       "      <td>0</td>\n",
       "      <td>L</td>\n",
       "      <td>U</td>\n",
       "      <td>D</td>\n",
       "      <td>b</td>\n",
       "      <td>4</td>\n",
       "      <td>d</td>\n",
       "      <td>R</td>\n",
       "      <td>u</td>\n",
       "      <td>...</td>\n",
       "      <td>9</td>\n",
       "      <td>Y</td>\n",
       "      <td>X</td>\n",
       "      <td>i</td>\n",
       "      <td>5</td>\n",
       "      <td>H</td>\n",
       "      <td>J</td>\n",
       "      <td>N</td>\n",
       "      <td>O</td>\n",
       "      <td>d</td>\n",
       "    </tr>\n",
       "    <tr>\n",
       "      <th>99998</th>\n",
       "      <td>WU.vk;seDgMFGjfYCVzecWIH,Lyzn2GtryMP9oehxZEY3p...</td>\n",
       "      <td>0</td>\n",
       "      <td>W</td>\n",
       "      <td>U</td>\n",
       "      <td>.</td>\n",
       "      <td>v</td>\n",
       "      <td>k</td>\n",
       "      <td>;</td>\n",
       "      <td>s</td>\n",
       "      <td>e</td>\n",
       "      <td>...</td>\n",
       "      <td>z</td>\n",
       "      <td>p</td>\n",
       "      <td>r</td>\n",
       "      <td>U</td>\n",
       "      <td>3</td>\n",
       "      <td>Q</td>\n",
       "      <td>I</td>\n",
       "      <td>N</td>\n",
       "      <td>Z</td>\n",
       "      <td>1</td>\n",
       "    </tr>\n",
       "    <tr>\n",
       "      <th>99999</th>\n",
       "      <td>38nrrtnzjXRrYMJww3JUQUfn78x;ojoc1rpDTSOthFvlk?...</td>\n",
       "      <td>0</td>\n",
       "      <td>3</td>\n",
       "      <td>8</td>\n",
       "      <td>n</td>\n",
       "      <td>r</td>\n",
       "      <td>r</td>\n",
       "      <td>t</td>\n",
       "      <td>n</td>\n",
       "      <td>z</td>\n",
       "      <td>...</td>\n",
       "      <td>t</td>\n",
       "      <td>5</td>\n",
       "      <td>;</td>\n",
       "      <td>z</td>\n",
       "      <td>!</td>\n",
       "      <td>F</td>\n",
       "      <td>z</td>\n",
       "      <td>U</td>\n",
       "      <td>S</td>\n",
       "      <td>4</td>\n",
       "    </tr>\n",
       "  </tbody>\n",
       "</table>\n",
       "<p>5 rows × 82 columns</p>\n",
       "</div>"
      ],
      "text/plain": [
       "                                             cipher_text  label  0  1  2  3  \\\n",
       "99995  ZqPx3hkvr3w5,Hq9IA5lDlnuiI!uBWfjMD9w64b,HfO1HE...      0  Z  q  P  x   \n",
       "99996  g8APjdehQlQosp7C,tWEhwNjbaN.ao?6?N.B9;vf.jMZY....      0  g  8  A  P   \n",
       "99997  LUDb4dRuM2IOsZ!iWlr.WrIFCbUafQc5Sr5VJ,NYr6xtkF...      0  L  U  D  b   \n",
       "99998  WU.vk;seDgMFGjfYCVzecWIH,Lyzn2GtryMP9oehxZEY3p...      0  W  U  .  v   \n",
       "99999  38nrrtnzjXRrYMJww3JUQUfn78x;ojoc1rpDTSOthFvlk?...      0  3  8  n  r   \n",
       "\n",
       "       4  5  6  7  ... 70 71 72 73 74 75 76 77 78 79  \n",
       "99995  3  h  k  v  ...  c  H  A  r  T  g  f  z  o  v  \n",
       "99996  j  d  e  h  ...  4  X  ;  v  U  c  9  v  n  e  \n",
       "99997  4  d  R  u  ...  9  Y  X  i  5  H  J  N  O  d  \n",
       "99998  k  ;  s  e  ...  z  p  r  U  3  Q  I  N  Z  1  \n",
       "99999  r  t  n  z  ...  t  5  ;  z  !  F  z  U  S  4  \n",
       "\n",
       "[5 rows x 82 columns]"
      ]
     },
     "execution_count": 21,
     "metadata": {},
     "output_type": "execute_result"
    }
   ],
   "source": [
    "df_all.tail()"
   ]
  },
  {
   "cell_type": "code",
   "execution_count": 22,
   "id": "ea844d55",
   "metadata": {},
   "outputs": [
    {
     "data": {
      "text/plain": [
       "Index(['cipher_text',       'label',             0,             1,\n",
       "                   2,             3,             4,             5,\n",
       "                   6,             7,             8,             9,\n",
       "                  10,            11,            12,            13,\n",
       "                  14,            15,            16,            17,\n",
       "                  18,            19,            20,            21,\n",
       "                  22,            23,            24,            25,\n",
       "                  26,            27,            28,            29,\n",
       "                  30,            31,            32,            33,\n",
       "                  34,            35,            36,            37,\n",
       "                  38,            39,            40,            41,\n",
       "                  42,            43,            44,            45,\n",
       "                  46,            47,            48,            49,\n",
       "                  50,            51,            52,            53,\n",
       "                  54,            55,            56,            57,\n",
       "                  58,            59,            60,            61,\n",
       "                  62,            63,            64,            65,\n",
       "                  66,            67,            68,            69,\n",
       "                  70,            71,            72,            73,\n",
       "                  74,            75,            76,            77,\n",
       "                  78,            79],\n",
       "      dtype='object')"
      ]
     },
     "execution_count": 22,
     "metadata": {},
     "output_type": "execute_result"
    }
   ],
   "source": [
    "df_all.columns"
   ]
  },
  {
   "cell_type": "code",
   "execution_count": 84,
   "id": "92b9f147",
   "metadata": {},
   "outputs": [],
   "source": [
    "# col = 5  # Replace with the actual column name\n",
    "\n",
    "# # Introduce random noise to ASCII values in a text column\n",
    "# noise_level = 5  # Adjust the noise level as needed\n",
    "\n",
    "# df_all[col] = df_all[col] + np.random.randint(-noise_level, noise_level + 1, len(df_all))"
   ]
  },
  {
   "cell_type": "code",
   "execution_count": 85,
   "id": "ebccace3",
   "metadata": {},
   "outputs": [],
   "source": [
    "# noise_level = 0.1  # Adjust the noise level as needed\n",
    "# num_features = 80  # Assuming 80 features\n",
    "\n",
    "# for col in range(num_features):\n",
    "#     df_all[col] = df_all[col] + np.random.normal(0, noise_level, len(df_all))\n",
    "\n",
    "# # Now df_all contains features with added random noise"
   ]
  },
  {
   "cell_type": "code",
   "execution_count": 23,
   "id": "372c85dc",
   "metadata": {},
   "outputs": [],
   "source": [
    "X_train, X_test, y_train, y_test = train_test_split(df_all.drop(['cipher_text','label'], axis = 1), df_all[\"label\"], test_size = 0.2, random_state = 42)"
   ]
  },
  {
   "cell_type": "code",
   "execution_count": 24,
   "id": "49ec1356",
   "metadata": {},
   "outputs": [
    {
     "data": {
      "text/html": [
       "<div>\n",
       "<style scoped>\n",
       "    .dataframe tbody tr th:only-of-type {\n",
       "        vertical-align: middle;\n",
       "    }\n",
       "\n",
       "    .dataframe tbody tr th {\n",
       "        vertical-align: top;\n",
       "    }\n",
       "\n",
       "    .dataframe thead th {\n",
       "        text-align: right;\n",
       "    }\n",
       "</style>\n",
       "<table border=\"1\" class=\"dataframe\">\n",
       "  <thead>\n",
       "    <tr style=\"text-align: right;\">\n",
       "      <th></th>\n",
       "      <th>0</th>\n",
       "      <th>1</th>\n",
       "      <th>2</th>\n",
       "      <th>3</th>\n",
       "      <th>4</th>\n",
       "      <th>5</th>\n",
       "      <th>6</th>\n",
       "      <th>7</th>\n",
       "      <th>8</th>\n",
       "      <th>9</th>\n",
       "      <th>...</th>\n",
       "      <th>70</th>\n",
       "      <th>71</th>\n",
       "      <th>72</th>\n",
       "      <th>73</th>\n",
       "      <th>74</th>\n",
       "      <th>75</th>\n",
       "      <th>76</th>\n",
       "      <th>77</th>\n",
       "      <th>78</th>\n",
       "      <th>79</th>\n",
       "    </tr>\n",
       "  </thead>\n",
       "  <tbody>\n",
       "    <tr>\n",
       "      <th>75721</th>\n",
       "      <td>99</td>\n",
       "      <td>74</td>\n",
       "      <td>54</td>\n",
       "      <td>101</td>\n",
       "      <td>113</td>\n",
       "      <td>83</td>\n",
       "      <td>85</td>\n",
       "      <td>119</td>\n",
       "      <td>87</td>\n",
       "      <td>63</td>\n",
       "      <td>...</td>\n",
       "      <td>65</td>\n",
       "      <td>77</td>\n",
       "      <td>122</td>\n",
       "      <td>55</td>\n",
       "      <td>72</td>\n",
       "      <td>72</td>\n",
       "      <td>88</td>\n",
       "      <td>74</td>\n",
       "      <td>105</td>\n",
       "      <td>114</td>\n",
       "    </tr>\n",
       "    <tr>\n",
       "      <th>80184</th>\n",
       "      <td>73</td>\n",
       "      <td>89</td>\n",
       "      <td>120</td>\n",
       "      <td>108</td>\n",
       "      <td>80</td>\n",
       "      <td>71</td>\n",
       "      <td>66</td>\n",
       "      <td>98</td>\n",
       "      <td>69</td>\n",
       "      <td>63</td>\n",
       "      <td>...</td>\n",
       "      <td>50</td>\n",
       "      <td>103</td>\n",
       "      <td>81</td>\n",
       "      <td>65</td>\n",
       "      <td>69</td>\n",
       "      <td>87</td>\n",
       "      <td>105</td>\n",
       "      <td>74</td>\n",
       "      <td>44</td>\n",
       "      <td>65</td>\n",
       "    </tr>\n",
       "    <tr>\n",
       "      <th>19864</th>\n",
       "      <td>114</td>\n",
       "      <td>46</td>\n",
       "      <td>105</td>\n",
       "      <td>103</td>\n",
       "      <td>100</td>\n",
       "      <td>46</td>\n",
       "      <td>101</td>\n",
       "      <td>122</td>\n",
       "      <td>111</td>\n",
       "      <td>110</td>\n",
       "      <td>...</td>\n",
       "      <td>116</td>\n",
       "      <td>122</td>\n",
       "      <td>101</td>\n",
       "      <td>8220</td>\n",
       "      <td>100</td>\n",
       "      <td>101</td>\n",
       "      <td>44</td>\n",
       "      <td>104</td>\n",
       "      <td>115</td>\n",
       "      <td>122</td>\n",
       "    </tr>\n",
       "    <tr>\n",
       "      <th>76699</th>\n",
       "      <td>88</td>\n",
       "      <td>51</td>\n",
       "      <td>117</td>\n",
       "      <td>70</td>\n",
       "      <td>105</td>\n",
       "      <td>112</td>\n",
       "      <td>33</td>\n",
       "      <td>56</td>\n",
       "      <td>57</td>\n",
       "      <td>71</td>\n",
       "      <td>...</td>\n",
       "      <td>102</td>\n",
       "      <td>121</td>\n",
       "      <td>69</td>\n",
       "      <td>122</td>\n",
       "      <td>87</td>\n",
       "      <td>90</td>\n",
       "      <td>57</td>\n",
       "      <td>84</td>\n",
       "      <td>53</td>\n",
       "      <td>59</td>\n",
       "    </tr>\n",
       "    <tr>\n",
       "      <th>92991</th>\n",
       "      <td>83</td>\n",
       "      <td>114</td>\n",
       "      <td>89</td>\n",
       "      <td>52</td>\n",
       "      <td>50</td>\n",
       "      <td>102</td>\n",
       "      <td>33</td>\n",
       "      <td>44</td>\n",
       "      <td>69</td>\n",
       "      <td>59</td>\n",
       "      <td>...</td>\n",
       "      <td>70</td>\n",
       "      <td>67</td>\n",
       "      <td>51</td>\n",
       "      <td>89</td>\n",
       "      <td>105</td>\n",
       "      <td>108</td>\n",
       "      <td>87</td>\n",
       "      <td>114</td>\n",
       "      <td>111</td>\n",
       "      <td>103</td>\n",
       "    </tr>\n",
       "    <tr>\n",
       "      <th>...</th>\n",
       "      <td>...</td>\n",
       "      <td>...</td>\n",
       "      <td>...</td>\n",
       "      <td>...</td>\n",
       "      <td>...</td>\n",
       "      <td>...</td>\n",
       "      <td>...</td>\n",
       "      <td>...</td>\n",
       "      <td>...</td>\n",
       "      <td>...</td>\n",
       "      <td>...</td>\n",
       "      <td>...</td>\n",
       "      <td>...</td>\n",
       "      <td>...</td>\n",
       "      <td>...</td>\n",
       "      <td>...</td>\n",
       "      <td>...</td>\n",
       "      <td>...</td>\n",
       "      <td>...</td>\n",
       "      <td>...</td>\n",
       "      <td>...</td>\n",
       "    </tr>\n",
       "    <tr>\n",
       "      <th>32595</th>\n",
       "      <td>112</td>\n",
       "      <td>111</td>\n",
       "      <td>103</td>\n",
       "      <td>114</td>\n",
       "      <td>111</td>\n",
       "      <td>112</td>\n",
       "      <td>122</td>\n",
       "      <td>122</td>\n",
       "      <td>104</td>\n",
       "      <td>109</td>\n",
       "      <td>...</td>\n",
       "      <td>122</td>\n",
       "      <td>122</td>\n",
       "      <td>104</td>\n",
       "      <td>105</td>\n",
       "      <td>105</td>\n",
       "      <td>110</td>\n",
       "      <td>119</td>\n",
       "      <td>98</td>\n",
       "      <td>101</td>\n",
       "      <td>122</td>\n",
       "    </tr>\n",
       "    <tr>\n",
       "      <th>29313</th>\n",
       "      <td>115</td>\n",
       "      <td>115</td>\n",
       "      <td>46</td>\n",
       "      <td>116</td>\n",
       "      <td>97</td>\n",
       "      <td>101</td>\n",
       "      <td>122</td>\n",
       "      <td>122</td>\n",
       "      <td>110</td>\n",
       "      <td>116</td>\n",
       "      <td>...</td>\n",
       "      <td>110</td>\n",
       "      <td>122</td>\n",
       "      <td>115</td>\n",
       "      <td>111</td>\n",
       "      <td>111</td>\n",
       "      <td>111</td>\n",
       "      <td>46</td>\n",
       "      <td>108</td>\n",
       "      <td>122</td>\n",
       "      <td>122</td>\n",
       "    </tr>\n",
       "    <tr>\n",
       "      <th>37862</th>\n",
       "      <td>101</td>\n",
       "      <td>121</td>\n",
       "      <td>114</td>\n",
       "      <td>104</td>\n",
       "      <td>105</td>\n",
       "      <td>122</td>\n",
       "      <td>122</td>\n",
       "      <td>122</td>\n",
       "      <td>105</td>\n",
       "      <td>97</td>\n",
       "      <td>...</td>\n",
       "      <td>122</td>\n",
       "      <td>122</td>\n",
       "      <td>108</td>\n",
       "      <td>115</td>\n",
       "      <td>111</td>\n",
       "      <td>44</td>\n",
       "      <td>116</td>\n",
       "      <td>110</td>\n",
       "      <td>122</td>\n",
       "      <td>122</td>\n",
       "    </tr>\n",
       "    <tr>\n",
       "      <th>53421</th>\n",
       "      <td>116</td>\n",
       "      <td>109</td>\n",
       "      <td>119</td>\n",
       "      <td>72</td>\n",
       "      <td>76</td>\n",
       "      <td>115</td>\n",
       "      <td>51</td>\n",
       "      <td>57</td>\n",
       "      <td>83</td>\n",
       "      <td>74</td>\n",
       "      <td>...</td>\n",
       "      <td>57</td>\n",
       "      <td>63</td>\n",
       "      <td>86</td>\n",
       "      <td>66</td>\n",
       "      <td>88</td>\n",
       "      <td>80</td>\n",
       "      <td>54</td>\n",
       "      <td>87</td>\n",
       "      <td>53</td>\n",
       "      <td>118</td>\n",
       "    </tr>\n",
       "    <tr>\n",
       "      <th>42410</th>\n",
       "      <td>98</td>\n",
       "      <td>111</td>\n",
       "      <td>101</td>\n",
       "      <td>97</td>\n",
       "      <td>104</td>\n",
       "      <td>104</td>\n",
       "      <td>122</td>\n",
       "      <td>122</td>\n",
       "      <td>121</td>\n",
       "      <td>101</td>\n",
       "      <td>...</td>\n",
       "      <td>122</td>\n",
       "      <td>122</td>\n",
       "      <td>97</td>\n",
       "      <td>97</td>\n",
       "      <td>102</td>\n",
       "      <td>116</td>\n",
       "      <td>104</td>\n",
       "      <td>115</td>\n",
       "      <td>122</td>\n",
       "      <td>122</td>\n",
       "    </tr>\n",
       "  </tbody>\n",
       "</table>\n",
       "<p>20000 rows × 80 columns</p>\n",
       "</div>"
      ],
      "text/plain": [
       "        0    1    2    3    4    5    6    7    8    9   ...   70   71   72  \\\n",
       "75721   99   74   54  101  113   83   85  119   87   63  ...   65   77  122   \n",
       "80184   73   89  120  108   80   71   66   98   69   63  ...   50  103   81   \n",
       "19864  114   46  105  103  100   46  101  122  111  110  ...  116  122  101   \n",
       "76699   88   51  117   70  105  112   33   56   57   71  ...  102  121   69   \n",
       "92991   83  114   89   52   50  102   33   44   69   59  ...   70   67   51   \n",
       "...    ...  ...  ...  ...  ...  ...  ...  ...  ...  ...  ...  ...  ...  ...   \n",
       "32595  112  111  103  114  111  112  122  122  104  109  ...  122  122  104   \n",
       "29313  115  115   46  116   97  101  122  122  110  116  ...  110  122  115   \n",
       "37862  101  121  114  104  105  122  122  122  105   97  ...  122  122  108   \n",
       "53421  116  109  119   72   76  115   51   57   83   74  ...   57   63   86   \n",
       "42410   98  111  101   97  104  104  122  122  121  101  ...  122  122   97   \n",
       "\n",
       "         73   74   75   76   77   78   79  \n",
       "75721    55   72   72   88   74  105  114  \n",
       "80184    65   69   87  105   74   44   65  \n",
       "19864  8220  100  101   44  104  115  122  \n",
       "76699   122   87   90   57   84   53   59  \n",
       "92991    89  105  108   87  114  111  103  \n",
       "...     ...  ...  ...  ...  ...  ...  ...  \n",
       "32595   105  105  110  119   98  101  122  \n",
       "29313   111  111  111   46  108  122  122  \n",
       "37862   115  111   44  116  110  122  122  \n",
       "53421    66   88   80   54   87   53  118  \n",
       "42410    97  102  116  104  115  122  122  \n",
       "\n",
       "[20000 rows x 80 columns]"
      ]
     },
     "execution_count": 24,
     "metadata": {},
     "output_type": "execute_result"
    }
   ],
   "source": [
    "# X_train = X_train.loc[:-2500]\n",
    "X_train\n",
    "X_train_ascii = X_train.applymap(lambda x: ord(x))\n",
    "X_train_ascii\n",
    "X_test_ascii = X_test.applymap(lambda x: ord(x))\n",
    "X_test_ascii"
   ]
  },
  {
   "cell_type": "code",
   "execution_count": 25,
   "id": "b5bf6487",
   "metadata": {},
   "outputs": [],
   "source": [
    "vectorizer = CountVectorizer()"
   ]
  },
  {
   "cell_type": "code",
   "execution_count": 26,
   "id": "77293769",
   "metadata": {},
   "outputs": [],
   "source": [
    "X_train = X_train_ascii\n",
    "X_test = X_test_ascii"
   ]
  },
  {
   "cell_type": "code",
   "execution_count": 27,
   "id": "e91a2d4c",
   "metadata": {},
   "outputs": [
    {
     "data": {
      "text/html": [
       "<div>\n",
       "<style scoped>\n",
       "    .dataframe tbody tr th:only-of-type {\n",
       "        vertical-align: middle;\n",
       "    }\n",
       "\n",
       "    .dataframe tbody tr th {\n",
       "        vertical-align: top;\n",
       "    }\n",
       "\n",
       "    .dataframe thead th {\n",
       "        text-align: right;\n",
       "    }\n",
       "</style>\n",
       "<table border=\"1\" class=\"dataframe\">\n",
       "  <thead>\n",
       "    <tr style=\"text-align: right;\">\n",
       "      <th></th>\n",
       "      <th>0</th>\n",
       "      <th>1</th>\n",
       "      <th>2</th>\n",
       "      <th>3</th>\n",
       "      <th>4</th>\n",
       "      <th>5</th>\n",
       "      <th>6</th>\n",
       "      <th>7</th>\n",
       "      <th>8</th>\n",
       "      <th>9</th>\n",
       "      <th>...</th>\n",
       "      <th>70</th>\n",
       "      <th>71</th>\n",
       "      <th>72</th>\n",
       "      <th>73</th>\n",
       "      <th>74</th>\n",
       "      <th>75</th>\n",
       "      <th>76</th>\n",
       "      <th>77</th>\n",
       "      <th>78</th>\n",
       "      <th>79</th>\n",
       "    </tr>\n",
       "  </thead>\n",
       "  <tbody>\n",
       "    <tr>\n",
       "      <th>75220</th>\n",
       "      <td>105</td>\n",
       "      <td>118</td>\n",
       "      <td>80</td>\n",
       "      <td>75</td>\n",
       "      <td>72</td>\n",
       "      <td>113</td>\n",
       "      <td>68</td>\n",
       "      <td>104</td>\n",
       "      <td>71</td>\n",
       "      <td>100</td>\n",
       "      <td>...</td>\n",
       "      <td>52</td>\n",
       "      <td>108</td>\n",
       "      <td>115</td>\n",
       "      <td>118</td>\n",
       "      <td>82</td>\n",
       "      <td>90</td>\n",
       "      <td>70</td>\n",
       "      <td>44</td>\n",
       "      <td>97</td>\n",
       "      <td>57</td>\n",
       "    </tr>\n",
       "    <tr>\n",
       "      <th>48955</th>\n",
       "      <td>116</td>\n",
       "      <td>99</td>\n",
       "      <td>116</td>\n",
       "      <td>111</td>\n",
       "      <td>97</td>\n",
       "      <td>105</td>\n",
       "      <td>122</td>\n",
       "      <td>122</td>\n",
       "      <td>116</td>\n",
       "      <td>116</td>\n",
       "      <td>...</td>\n",
       "      <td>122</td>\n",
       "      <td>122</td>\n",
       "      <td>117</td>\n",
       "      <td>111</td>\n",
       "      <td>105</td>\n",
       "      <td>112</td>\n",
       "      <td>104</td>\n",
       "      <td>120</td>\n",
       "      <td>122</td>\n",
       "      <td>122</td>\n",
       "    </tr>\n",
       "    <tr>\n",
       "      <th>44966</th>\n",
       "      <td>101</td>\n",
       "      <td>116</td>\n",
       "      <td>110</td>\n",
       "      <td>8221</td>\n",
       "      <td>97</td>\n",
       "      <td>101</td>\n",
       "      <td>122</td>\n",
       "      <td>122</td>\n",
       "      <td>100</td>\n",
       "      <td>116</td>\n",
       "      <td>...</td>\n",
       "      <td>122</td>\n",
       "      <td>122</td>\n",
       "      <td>116</td>\n",
       "      <td>121</td>\n",
       "      <td>101</td>\n",
       "      <td>111</td>\n",
       "      <td>114</td>\n",
       "      <td>114</td>\n",
       "      <td>122</td>\n",
       "      <td>122</td>\n",
       "    </tr>\n",
       "    <tr>\n",
       "      <th>13568</th>\n",
       "      <td>111</td>\n",
       "      <td>116</td>\n",
       "      <td>111</td>\n",
       "      <td>105</td>\n",
       "      <td>114</td>\n",
       "      <td>97</td>\n",
       "      <td>10</td>\n",
       "      <td>122</td>\n",
       "      <td>101</td>\n",
       "      <td>97</td>\n",
       "      <td>...</td>\n",
       "      <td>122</td>\n",
       "      <td>122</td>\n",
       "      <td>109</td>\n",
       "      <td>110</td>\n",
       "      <td>97</td>\n",
       "      <td>101</td>\n",
       "      <td>111</td>\n",
       "      <td>116</td>\n",
       "      <td>122</td>\n",
       "      <td>122</td>\n",
       "    </tr>\n",
       "    <tr>\n",
       "      <th>92727</th>\n",
       "      <td>72</td>\n",
       "      <td>97</td>\n",
       "      <td>107</td>\n",
       "      <td>122</td>\n",
       "      <td>52</td>\n",
       "      <td>104</td>\n",
       "      <td>107</td>\n",
       "      <td>113</td>\n",
       "      <td>81</td>\n",
       "      <td>99</td>\n",
       "      <td>...</td>\n",
       "      <td>114</td>\n",
       "      <td>102</td>\n",
       "      <td>112</td>\n",
       "      <td>52</td>\n",
       "      <td>102</td>\n",
       "      <td>89</td>\n",
       "      <td>69</td>\n",
       "      <td>112</td>\n",
       "      <td>54</td>\n",
       "      <td>74</td>\n",
       "    </tr>\n",
       "    <tr>\n",
       "      <th>...</th>\n",
       "      <td>...</td>\n",
       "      <td>...</td>\n",
       "      <td>...</td>\n",
       "      <td>...</td>\n",
       "      <td>...</td>\n",
       "      <td>...</td>\n",
       "      <td>...</td>\n",
       "      <td>...</td>\n",
       "      <td>...</td>\n",
       "      <td>...</td>\n",
       "      <td>...</td>\n",
       "      <td>...</td>\n",
       "      <td>...</td>\n",
       "      <td>...</td>\n",
       "      <td>...</td>\n",
       "      <td>...</td>\n",
       "      <td>...</td>\n",
       "      <td>...</td>\n",
       "      <td>...</td>\n",
       "      <td>...</td>\n",
       "      <td>...</td>\n",
       "    </tr>\n",
       "    <tr>\n",
       "      <th>6265</th>\n",
       "      <td>101</td>\n",
       "      <td>105</td>\n",
       "      <td>111</td>\n",
       "      <td>101</td>\n",
       "      <td>104</td>\n",
       "      <td>122</td>\n",
       "      <td>122</td>\n",
       "      <td>122</td>\n",
       "      <td>114</td>\n",
       "      <td>104</td>\n",
       "      <td>...</td>\n",
       "      <td>122</td>\n",
       "      <td>122</td>\n",
       "      <td>104</td>\n",
       "      <td>119</td>\n",
       "      <td>116</td>\n",
       "      <td>104</td>\n",
       "      <td>97</td>\n",
       "      <td>111</td>\n",
       "      <td>122</td>\n",
       "      <td>122</td>\n",
       "    </tr>\n",
       "    <tr>\n",
       "      <th>54886</th>\n",
       "      <td>89</td>\n",
       "      <td>68</td>\n",
       "      <td>115</td>\n",
       "      <td>52</td>\n",
       "      <td>66</td>\n",
       "      <td>65</td>\n",
       "      <td>78</td>\n",
       "      <td>87</td>\n",
       "      <td>63</td>\n",
       "      <td>78</td>\n",
       "      <td>...</td>\n",
       "      <td>63</td>\n",
       "      <td>63</td>\n",
       "      <td>78</td>\n",
       "      <td>106</td>\n",
       "      <td>82</td>\n",
       "      <td>87</td>\n",
       "      <td>73</td>\n",
       "      <td>103</td>\n",
       "      <td>88</td>\n",
       "      <td>75</td>\n",
       "    </tr>\n",
       "    <tr>\n",
       "      <th>76820</th>\n",
       "      <td>55</td>\n",
       "      <td>117</td>\n",
       "      <td>63</td>\n",
       "      <td>56</td>\n",
       "      <td>80</td>\n",
       "      <td>102</td>\n",
       "      <td>112</td>\n",
       "      <td>82</td>\n",
       "      <td>79</td>\n",
       "      <td>53</td>\n",
       "      <td>...</td>\n",
       "      <td>82</td>\n",
       "      <td>82</td>\n",
       "      <td>76</td>\n",
       "      <td>69</td>\n",
       "      <td>74</td>\n",
       "      <td>80</td>\n",
       "      <td>72</td>\n",
       "      <td>67</td>\n",
       "      <td>98</td>\n",
       "      <td>70</td>\n",
       "    </tr>\n",
       "    <tr>\n",
       "      <th>860</th>\n",
       "      <td>102</td>\n",
       "      <td>116</td>\n",
       "      <td>110</td>\n",
       "      <td>116</td>\n",
       "      <td>45</td>\n",
       "      <td>105</td>\n",
       "      <td>122</td>\n",
       "      <td>122</td>\n",
       "      <td>102</td>\n",
       "      <td>104</td>\n",
       "      <td>...</td>\n",
       "      <td>122</td>\n",
       "      <td>122</td>\n",
       "      <td>116</td>\n",
       "      <td>104</td>\n",
       "      <td>121</td>\n",
       "      <td>115</td>\n",
       "      <td>111</td>\n",
       "      <td>101</td>\n",
       "      <td>122</td>\n",
       "      <td>122</td>\n",
       "    </tr>\n",
       "    <tr>\n",
       "      <th>15795</th>\n",
       "      <td>101</td>\n",
       "      <td>105</td>\n",
       "      <td>119</td>\n",
       "      <td>101</td>\n",
       "      <td>121</td>\n",
       "      <td>116</td>\n",
       "      <td>122</td>\n",
       "      <td>122</td>\n",
       "      <td>101</td>\n",
       "      <td>110</td>\n",
       "      <td>...</td>\n",
       "      <td>122</td>\n",
       "      <td>122</td>\n",
       "      <td>111</td>\n",
       "      <td>116</td>\n",
       "      <td>100</td>\n",
       "      <td>97</td>\n",
       "      <td>97</td>\n",
       "      <td>104</td>\n",
       "      <td>122</td>\n",
       "      <td>122</td>\n",
       "    </tr>\n",
       "  </tbody>\n",
       "</table>\n",
       "<p>80000 rows × 80 columns</p>\n",
       "</div>"
      ],
      "text/plain": [
       "        0    1    2     3    4    5    6    7    8    9   ...   70   71   72  \\\n",
       "75220  105  118   80    75   72  113   68  104   71  100  ...   52  108  115   \n",
       "48955  116   99  116   111   97  105  122  122  116  116  ...  122  122  117   \n",
       "44966  101  116  110  8221   97  101  122  122  100  116  ...  122  122  116   \n",
       "13568  111  116  111   105  114   97   10  122  101   97  ...  122  122  109   \n",
       "92727   72   97  107   122   52  104  107  113   81   99  ...  114  102  112   \n",
       "...    ...  ...  ...   ...  ...  ...  ...  ...  ...  ...  ...  ...  ...  ...   \n",
       "6265   101  105  111   101  104  122  122  122  114  104  ...  122  122  104   \n",
       "54886   89   68  115    52   66   65   78   87   63   78  ...   63   63   78   \n",
       "76820   55  117   63    56   80  102  112   82   79   53  ...   82   82   76   \n",
       "860    102  116  110   116   45  105  122  122  102  104  ...  122  122  116   \n",
       "15795  101  105  119   101  121  116  122  122  101  110  ...  122  122  111   \n",
       "\n",
       "        73   74   75   76   77   78   79  \n",
       "75220  118   82   90   70   44   97   57  \n",
       "48955  111  105  112  104  120  122  122  \n",
       "44966  121  101  111  114  114  122  122  \n",
       "13568  110   97  101  111  116  122  122  \n",
       "92727   52  102   89   69  112   54   74  \n",
       "...    ...  ...  ...  ...  ...  ...  ...  \n",
       "6265   119  116  104   97  111  122  122  \n",
       "54886  106   82   87   73  103   88   75  \n",
       "76820   69   74   80   72   67   98   70  \n",
       "860    104  121  115  111  101  122  122  \n",
       "15795  116  100   97   97  104  122  122  \n",
       "\n",
       "[80000 rows x 80 columns]"
      ]
     },
     "execution_count": 27,
     "metadata": {},
     "output_type": "execute_result"
    }
   ],
   "source": [
    "X_train"
   ]
  },
  {
   "cell_type": "code",
   "execution_count": 56,
   "id": "42cebe4c",
   "metadata": {},
   "outputs": [],
   "source": [
    "curr = X_train.iloc[10,:].values.reshape(1,-1)"
   ]
  },
  {
   "cell_type": "code",
   "execution_count": 59,
   "id": "8d51d355",
   "metadata": {},
   "outputs": [
    {
     "data": {
      "text/plain": [
       "56"
      ]
     },
     "execution_count": 59,
     "metadata": {},
     "output_type": "execute_result"
    }
   ],
   "source": [
    "curr = curr\n",
    "curr"
   ]
  },
  {
   "cell_type": "code",
   "execution_count": null,
   "id": "fedce25e",
   "metadata": {},
   "outputs": [],
   "source": [
    "mod"
   ]
  },
  {
   "cell_type": "code",
   "execution_count": 32,
   "id": "82ae6b67",
   "metadata": {},
   "outputs": [],
   "source": [
    "model_rf = RandomForestClassifier(n_estimators = 100, random_state = 42)"
   ]
  },
  {
   "cell_type": "code",
   "execution_count": 33,
   "id": "affa3d6c",
   "metadata": {},
   "outputs": [
    {
     "data": {
      "text/plain": [
       "RandomForestClassifier(random_state=42)"
      ]
     },
     "execution_count": 33,
     "metadata": {},
     "output_type": "execute_result"
    }
   ],
   "source": [
    "model_rf.fit(X_train,y_train)"
   ]
  },
  {
   "cell_type": "code",
   "execution_count": 55,
   "id": "1fcf708f",
   "metadata": {},
   "outputs": [
    {
     "ename": "ValueError",
     "evalue": "Expected 2D array, got scalar array instead:\narray=56.0.\nReshape your data either using array.reshape(-1, 1) if your data has a single feature or array.reshape(1, -1) if it contains a single sample.",
     "output_type": "error",
     "traceback": [
      "\u001b[1;31m---------------------------------------------------------------------------\u001b[0m",
      "\u001b[1;31mValueError\u001b[0m                                Traceback (most recent call last)",
      "\u001b[1;32m<ipython-input-55-2d00208dfab2>\u001b[0m in \u001b[0;36m<module>\u001b[1;34m\u001b[0m\n\u001b[1;32m----> 1\u001b[1;33m \u001b[0mmodel_rf\u001b[0m\u001b[1;33m.\u001b[0m\u001b[0mpredict\u001b[0m\u001b[1;33m(\u001b[0m\u001b[0mcurr\u001b[0m\u001b[1;33m)\u001b[0m\u001b[1;33m\u001b[0m\u001b[1;33m\u001b[0m\u001b[0m\n\u001b[0m",
      "\u001b[1;32m~\\anaconda3\\lib\\site-packages\\sklearn\\ensemble\\_forest.py\u001b[0m in \u001b[0;36mpredict\u001b[1;34m(self, X)\u001b[0m\n\u001b[0;32m    628\u001b[0m             \u001b[0mThe\u001b[0m \u001b[0mpredicted\u001b[0m \u001b[0mclasses\u001b[0m\u001b[1;33m.\u001b[0m\u001b[1;33m\u001b[0m\u001b[1;33m\u001b[0m\u001b[0m\n\u001b[0;32m    629\u001b[0m         \"\"\"\n\u001b[1;32m--> 630\u001b[1;33m         \u001b[0mproba\u001b[0m \u001b[1;33m=\u001b[0m \u001b[0mself\u001b[0m\u001b[1;33m.\u001b[0m\u001b[0mpredict_proba\u001b[0m\u001b[1;33m(\u001b[0m\u001b[0mX\u001b[0m\u001b[1;33m)\u001b[0m\u001b[1;33m\u001b[0m\u001b[1;33m\u001b[0m\u001b[0m\n\u001b[0m\u001b[0;32m    631\u001b[0m \u001b[1;33m\u001b[0m\u001b[0m\n\u001b[0;32m    632\u001b[0m         \u001b[1;32mif\u001b[0m \u001b[0mself\u001b[0m\u001b[1;33m.\u001b[0m\u001b[0mn_outputs_\u001b[0m \u001b[1;33m==\u001b[0m \u001b[1;36m1\u001b[0m\u001b[1;33m:\u001b[0m\u001b[1;33m\u001b[0m\u001b[1;33m\u001b[0m\u001b[0m\n",
      "\u001b[1;32m~\\anaconda3\\lib\\site-packages\\sklearn\\ensemble\\_forest.py\u001b[0m in \u001b[0;36mpredict_proba\u001b[1;34m(self, X)\u001b[0m\n\u001b[0;32m    672\u001b[0m         \u001b[0mcheck_is_fitted\u001b[0m\u001b[1;33m(\u001b[0m\u001b[0mself\u001b[0m\u001b[1;33m)\u001b[0m\u001b[1;33m\u001b[0m\u001b[1;33m\u001b[0m\u001b[0m\n\u001b[0;32m    673\u001b[0m         \u001b[1;31m# Check data\u001b[0m\u001b[1;33m\u001b[0m\u001b[1;33m\u001b[0m\u001b[1;33m\u001b[0m\u001b[0m\n\u001b[1;32m--> 674\u001b[1;33m         \u001b[0mX\u001b[0m \u001b[1;33m=\u001b[0m \u001b[0mself\u001b[0m\u001b[1;33m.\u001b[0m\u001b[0m_validate_X_predict\u001b[0m\u001b[1;33m(\u001b[0m\u001b[0mX\u001b[0m\u001b[1;33m)\u001b[0m\u001b[1;33m\u001b[0m\u001b[1;33m\u001b[0m\u001b[0m\n\u001b[0m\u001b[0;32m    675\u001b[0m \u001b[1;33m\u001b[0m\u001b[0m\n\u001b[0;32m    676\u001b[0m         \u001b[1;31m# Assign chunk of trees to jobs\u001b[0m\u001b[1;33m\u001b[0m\u001b[1;33m\u001b[0m\u001b[1;33m\u001b[0m\u001b[0m\n",
      "\u001b[1;32m~\\anaconda3\\lib\\site-packages\\sklearn\\ensemble\\_forest.py\u001b[0m in \u001b[0;36m_validate_X_predict\u001b[1;34m(self, X)\u001b[0m\n\u001b[0;32m    420\u001b[0m         \u001b[0mcheck_is_fitted\u001b[0m\u001b[1;33m(\u001b[0m\u001b[0mself\u001b[0m\u001b[1;33m)\u001b[0m\u001b[1;33m\u001b[0m\u001b[1;33m\u001b[0m\u001b[0m\n\u001b[0;32m    421\u001b[0m \u001b[1;33m\u001b[0m\u001b[0m\n\u001b[1;32m--> 422\u001b[1;33m         \u001b[1;32mreturn\u001b[0m \u001b[0mself\u001b[0m\u001b[1;33m.\u001b[0m\u001b[0mestimators_\u001b[0m\u001b[1;33m[\u001b[0m\u001b[1;36m0\u001b[0m\u001b[1;33m]\u001b[0m\u001b[1;33m.\u001b[0m\u001b[0m_validate_X_predict\u001b[0m\u001b[1;33m(\u001b[0m\u001b[0mX\u001b[0m\u001b[1;33m,\u001b[0m \u001b[0mcheck_input\u001b[0m\u001b[1;33m=\u001b[0m\u001b[1;32mTrue\u001b[0m\u001b[1;33m)\u001b[0m\u001b[1;33m\u001b[0m\u001b[1;33m\u001b[0m\u001b[0m\n\u001b[0m\u001b[0;32m    423\u001b[0m \u001b[1;33m\u001b[0m\u001b[0m\n\u001b[0;32m    424\u001b[0m     \u001b[1;33m@\u001b[0m\u001b[0mproperty\u001b[0m\u001b[1;33m\u001b[0m\u001b[1;33m\u001b[0m\u001b[0m\n",
      "\u001b[1;32m~\\anaconda3\\lib\\site-packages\\sklearn\\tree\\_classes.py\u001b[0m in \u001b[0;36m_validate_X_predict\u001b[1;34m(self, X, check_input)\u001b[0m\n\u001b[0;32m    400\u001b[0m         \u001b[1;34m\"\"\"Validate the training data on predict (probabilities).\"\"\"\u001b[0m\u001b[1;33m\u001b[0m\u001b[1;33m\u001b[0m\u001b[0m\n\u001b[0;32m    401\u001b[0m         \u001b[1;32mif\u001b[0m \u001b[0mcheck_input\u001b[0m\u001b[1;33m:\u001b[0m\u001b[1;33m\u001b[0m\u001b[1;33m\u001b[0m\u001b[0m\n\u001b[1;32m--> 402\u001b[1;33m             X = self._validate_data(X, dtype=DTYPE, accept_sparse=\"csr\",\n\u001b[0m\u001b[0;32m    403\u001b[0m                                     reset=False)\n\u001b[0;32m    404\u001b[0m             if issparse(X) and (X.indices.dtype != np.intc or\n",
      "\u001b[1;32m~\\anaconda3\\lib\\site-packages\\sklearn\\base.py\u001b[0m in \u001b[0;36m_validate_data\u001b[1;34m(self, X, y, reset, validate_separately, **check_params)\u001b[0m\n\u001b[0;32m    419\u001b[0m             \u001b[0mout\u001b[0m \u001b[1;33m=\u001b[0m \u001b[0mX\u001b[0m\u001b[1;33m\u001b[0m\u001b[1;33m\u001b[0m\u001b[0m\n\u001b[0;32m    420\u001b[0m         \u001b[1;32melif\u001b[0m \u001b[0misinstance\u001b[0m\u001b[1;33m(\u001b[0m\u001b[0my\u001b[0m\u001b[1;33m,\u001b[0m \u001b[0mstr\u001b[0m\u001b[1;33m)\u001b[0m \u001b[1;32mand\u001b[0m \u001b[0my\u001b[0m \u001b[1;33m==\u001b[0m \u001b[1;34m'no_validation'\u001b[0m\u001b[1;33m:\u001b[0m\u001b[1;33m\u001b[0m\u001b[1;33m\u001b[0m\u001b[0m\n\u001b[1;32m--> 421\u001b[1;33m             \u001b[0mX\u001b[0m \u001b[1;33m=\u001b[0m \u001b[0mcheck_array\u001b[0m\u001b[1;33m(\u001b[0m\u001b[0mX\u001b[0m\u001b[1;33m,\u001b[0m \u001b[1;33m**\u001b[0m\u001b[0mcheck_params\u001b[0m\u001b[1;33m)\u001b[0m\u001b[1;33m\u001b[0m\u001b[1;33m\u001b[0m\u001b[0m\n\u001b[0m\u001b[0;32m    422\u001b[0m             \u001b[0mout\u001b[0m \u001b[1;33m=\u001b[0m \u001b[0mX\u001b[0m\u001b[1;33m\u001b[0m\u001b[1;33m\u001b[0m\u001b[0m\n\u001b[0;32m    423\u001b[0m         \u001b[1;32melse\u001b[0m\u001b[1;33m:\u001b[0m\u001b[1;33m\u001b[0m\u001b[1;33m\u001b[0m\u001b[0m\n",
      "\u001b[1;32m~\\anaconda3\\lib\\site-packages\\sklearn\\utils\\validation.py\u001b[0m in \u001b[0;36minner_f\u001b[1;34m(*args, **kwargs)\u001b[0m\n\u001b[0;32m     61\u001b[0m             \u001b[0mextra_args\u001b[0m \u001b[1;33m=\u001b[0m \u001b[0mlen\u001b[0m\u001b[1;33m(\u001b[0m\u001b[0margs\u001b[0m\u001b[1;33m)\u001b[0m \u001b[1;33m-\u001b[0m \u001b[0mlen\u001b[0m\u001b[1;33m(\u001b[0m\u001b[0mall_args\u001b[0m\u001b[1;33m)\u001b[0m\u001b[1;33m\u001b[0m\u001b[1;33m\u001b[0m\u001b[0m\n\u001b[0;32m     62\u001b[0m             \u001b[1;32mif\u001b[0m \u001b[0mextra_args\u001b[0m \u001b[1;33m<=\u001b[0m \u001b[1;36m0\u001b[0m\u001b[1;33m:\u001b[0m\u001b[1;33m\u001b[0m\u001b[1;33m\u001b[0m\u001b[0m\n\u001b[1;32m---> 63\u001b[1;33m                 \u001b[1;32mreturn\u001b[0m \u001b[0mf\u001b[0m\u001b[1;33m(\u001b[0m\u001b[1;33m*\u001b[0m\u001b[0margs\u001b[0m\u001b[1;33m,\u001b[0m \u001b[1;33m**\u001b[0m\u001b[0mkwargs\u001b[0m\u001b[1;33m)\u001b[0m\u001b[1;33m\u001b[0m\u001b[1;33m\u001b[0m\u001b[0m\n\u001b[0m\u001b[0;32m     64\u001b[0m \u001b[1;33m\u001b[0m\u001b[0m\n\u001b[0;32m     65\u001b[0m             \u001b[1;31m# extra_args > 0\u001b[0m\u001b[1;33m\u001b[0m\u001b[1;33m\u001b[0m\u001b[1;33m\u001b[0m\u001b[0m\n",
      "\u001b[1;32m~\\anaconda3\\lib\\site-packages\\sklearn\\utils\\validation.py\u001b[0m in \u001b[0;36mcheck_array\u001b[1;34m(array, accept_sparse, accept_large_sparse, dtype, order, copy, force_all_finite, ensure_2d, allow_nd, ensure_min_samples, ensure_min_features, estimator)\u001b[0m\n\u001b[0;32m    628\u001b[0m             \u001b[1;31m# If input is scalar raise error\u001b[0m\u001b[1;33m\u001b[0m\u001b[1;33m\u001b[0m\u001b[1;33m\u001b[0m\u001b[0m\n\u001b[0;32m    629\u001b[0m             \u001b[1;32mif\u001b[0m \u001b[0marray\u001b[0m\u001b[1;33m.\u001b[0m\u001b[0mndim\u001b[0m \u001b[1;33m==\u001b[0m \u001b[1;36m0\u001b[0m\u001b[1;33m:\u001b[0m\u001b[1;33m\u001b[0m\u001b[1;33m\u001b[0m\u001b[0m\n\u001b[1;32m--> 630\u001b[1;33m                 raise ValueError(\n\u001b[0m\u001b[0;32m    631\u001b[0m                     \u001b[1;34m\"Expected 2D array, got scalar array instead:\\narray={}.\\n\"\u001b[0m\u001b[1;33m\u001b[0m\u001b[1;33m\u001b[0m\u001b[0m\n\u001b[0;32m    632\u001b[0m                     \u001b[1;34m\"Reshape your data either using array.reshape(-1, 1) if \"\u001b[0m\u001b[1;33m\u001b[0m\u001b[1;33m\u001b[0m\u001b[0m\n",
      "\u001b[1;31mValueError\u001b[0m: Expected 2D array, got scalar array instead:\narray=56.0.\nReshape your data either using array.reshape(-1, 1) if your data has a single feature or array.reshape(1, -1) if it contains a single sample."
     ]
    }
   ],
   "source": [
    "model_rf.predict(curr)"
   ]
  },
  {
   "cell_type": "code",
   "execution_count": 93,
   "id": "f8fdcc5d",
   "metadata": {},
   "outputs": [],
   "source": [
    "y_pred = model_rf.predict(X_test)"
   ]
  },
  {
   "cell_type": "code",
   "execution_count": 94,
   "id": "0a7fc445",
   "metadata": {},
   "outputs": [
    {
     "data": {
      "text/html": [
       "<div>\n",
       "<style scoped>\n",
       "    .dataframe tbody tr th:only-of-type {\n",
       "        vertical-align: middle;\n",
       "    }\n",
       "\n",
       "    .dataframe tbody tr th {\n",
       "        vertical-align: top;\n",
       "    }\n",
       "\n",
       "    .dataframe thead th {\n",
       "        text-align: right;\n",
       "    }\n",
       "</style>\n",
       "<table border=\"1\" class=\"dataframe\">\n",
       "  <thead>\n",
       "    <tr style=\"text-align: right;\">\n",
       "      <th></th>\n",
       "      <th>cipher_text</th>\n",
       "      <th>label</th>\n",
       "      <th>0</th>\n",
       "      <th>1</th>\n",
       "      <th>2</th>\n",
       "      <th>3</th>\n",
       "      <th>4</th>\n",
       "      <th>5</th>\n",
       "      <th>6</th>\n",
       "      <th>7</th>\n",
       "      <th>...</th>\n",
       "      <th>70</th>\n",
       "      <th>71</th>\n",
       "      <th>72</th>\n",
       "      <th>73</th>\n",
       "      <th>74</th>\n",
       "      <th>75</th>\n",
       "      <th>76</th>\n",
       "      <th>77</th>\n",
       "      <th>78</th>\n",
       "      <th>79</th>\n",
       "    </tr>\n",
       "  </thead>\n",
       "  <tbody>\n",
       "    <tr>\n",
       "      <th>0</th>\n",
       "      <td>htnioozztsdnsczzpwoas\\nzzrecheszzooadttzzehotr...</td>\n",
       "      <td>1</td>\n",
       "      <td>h</td>\n",
       "      <td>t</td>\n",
       "      <td>n</td>\n",
       "      <td>i</td>\n",
       "      <td>o</td>\n",
       "      <td>o</td>\n",
       "      <td>z</td>\n",
       "      <td>z</td>\n",
       "      <td>...</td>\n",
       "      <td>z</td>\n",
       "      <td>z</td>\n",
       "      <td>o</td>\n",
       "      <td>r</td>\n",
       "      <td>r</td>\n",
       "      <td>t</td>\n",
       "      <td>m</td>\n",
       "      <td>r</td>\n",
       "      <td>z</td>\n",
       "      <td>z</td>\n",
       "    </tr>\n",
       "    <tr>\n",
       "      <th>1</th>\n",
       "      <td>hyiweezztu,ytezzvceee\\nzzrptutzzzoairnmzzeoi-r...</td>\n",
       "      <td>1</td>\n",
       "      <td>h</td>\n",
       "      <td>y</td>\n",
       "      <td>i</td>\n",
       "      <td>w</td>\n",
       "      <td>e</td>\n",
       "      <td>e</td>\n",
       "      <td>z</td>\n",
       "      <td>z</td>\n",
       "      <td>...</td>\n",
       "      <td>z</td>\n",
       "      <td>z</td>\n",
       "      <td>e</td>\n",
       "      <td>y</td>\n",
       "      <td>v</td>\n",
       "      <td>r</td>\n",
       "      <td>d</td>\n",
       "      <td>s</td>\n",
       "      <td>z</td>\n",
       "      <td>z</td>\n",
       "    </tr>\n",
       "    <tr>\n",
       "      <th>2</th>\n",
       "      <td>,oek,rzzdwgvetzzhmhsvozzefbashzzue,eltzzrrnwer...</td>\n",
       "      <td>1</td>\n",
       "      <td>,</td>\n",
       "      <td>o</td>\n",
       "      <td>e</td>\n",
       "      <td>k</td>\n",
       "      <td>,</td>\n",
       "      <td>r</td>\n",
       "      <td>z</td>\n",
       "      <td>z</td>\n",
       "      <td>...</td>\n",
       "      <td>z</td>\n",
       "      <td>z</td>\n",
       "      <td>a</td>\n",
       "      <td>r</td>\n",
       "      <td>i</td>\n",
       "      <td>e</td>\n",
       "      <td>a</td>\n",
       "      <td>u</td>\n",
       "      <td>z</td>\n",
       "      <td>z</td>\n",
       "    </tr>\n",
       "    <tr>\n",
       "      <th>3</th>\n",
       "      <td>noyitzzz’,maaizzlsaeg\\nzziwstehzzohtnhzzzallwo...</td>\n",
       "      <td>1</td>\n",
       "      <td>n</td>\n",
       "      <td>o</td>\n",
       "      <td>y</td>\n",
       "      <td>i</td>\n",
       "      <td>t</td>\n",
       "      <td>z</td>\n",
       "      <td>z</td>\n",
       "      <td>z</td>\n",
       "      <td>...</td>\n",
       "      <td>z</td>\n",
       "      <td>z</td>\n",
       "      <td>t</td>\n",
       "      <td>i</td>\n",
       "      <td>y</td>\n",
       "      <td>n</td>\n",
       "      <td>v</td>\n",
       "      <td>t</td>\n",
       "      <td>z</td>\n",
       "      <td>z</td>\n",
       "    </tr>\n",
       "    <tr>\n",
       "      <th>4</th>\n",
       "      <td>eaiaiezzddmswzzzhmeetszzhhtneezz,fodatzzassa;h...</td>\n",
       "      <td>1</td>\n",
       "      <td>e</td>\n",
       "      <td>a</td>\n",
       "      <td>i</td>\n",
       "      <td>a</td>\n",
       "      <td>i</td>\n",
       "      <td>e</td>\n",
       "      <td>z</td>\n",
       "      <td>z</td>\n",
       "      <td>...</td>\n",
       "      <td>z</td>\n",
       "      <td>z</td>\n",
       "      <td>t</td>\n",
       "      <td>t</td>\n",
       "      <td>r</td>\n",
       "      <td>e</td>\n",
       "      <td>k</td>\n",
       "      <td>s</td>\n",
       "      <td>z</td>\n",
       "      <td>z</td>\n",
       "    </tr>\n",
       "  </tbody>\n",
       "</table>\n",
       "<p>5 rows × 82 columns</p>\n",
       "</div>"
      ],
      "text/plain": [
       "                                         cipher_text  label  0  1  2  3  4  5  \\\n",
       "0  htnioozztsdnsczzpwoas\\nzzrecheszzooadttzzehotr...      1  h  t  n  i  o  o   \n",
       "1  hyiweezztu,ytezzvceee\\nzzrptutzzzoairnmzzeoi-r...      1  h  y  i  w  e  e   \n",
       "2  ,oek,rzzdwgvetzzhmhsvozzefbashzzue,eltzzrrnwer...      1  ,  o  e  k  ,  r   \n",
       "3  noyitzzz’,maaizzlsaeg\\nzziwstehzzohtnhzzzallwo...      1  n  o  y  i  t  z   \n",
       "4  eaiaiezzddmswzzzhmeetszzhhtneezz,fodatzzassa;h...      1  e  a  i  a  i  e   \n",
       "\n",
       "   6  7  ... 70 71 72 73 74 75 76 77 78 79  \n",
       "0  z  z  ...  z  z  o  r  r  t  m  r  z  z  \n",
       "1  z  z  ...  z  z  e  y  v  r  d  s  z  z  \n",
       "2  z  z  ...  z  z  a  r  i  e  a  u  z  z  \n",
       "3  z  z  ...  z  z  t  i  y  n  v  t  z  z  \n",
       "4  z  z  ...  z  z  t  t  r  e  k  s  z  z  \n",
       "\n",
       "[5 rows x 82 columns]"
      ]
     },
     "execution_count": 94,
     "metadata": {},
     "output_type": "execute_result"
    }
   ],
   "source": [
    "df_random\n",
    "len(df_random.head(1).cipher_text.values[0])\n",
    "df_all.head()"
   ]
  },
  {
   "cell_type": "code",
   "execution_count": null,
   "id": "3460f31b",
   "metadata": {},
   "outputs": [],
   "source": []
  },
  {
   "cell_type": "code",
   "execution_count": null,
   "id": "dc72f114",
   "metadata": {},
   "outputs": [],
   "source": []
  },
  {
   "cell_type": "code",
   "execution_count": 95,
   "id": "226baaaf",
   "metadata": {},
   "outputs": [
    {
     "data": {
      "text/plain": [
       "1.0"
      ]
     },
     "execution_count": 95,
     "metadata": {},
     "output_type": "execute_result"
    }
   ],
   "source": [
    "accuracy_score(y_test, y_pred)"
   ]
  },
  {
   "cell_type": "code",
   "execution_count": 96,
   "id": "fd695f20",
   "metadata": {},
   "outputs": [
    {
     "data": {
      "text/plain": [
       "label\n",
       "1    50000\n",
       "0    50000\n",
       "Name: count, dtype: int64"
      ]
     },
     "execution_count": 96,
     "metadata": {},
     "output_type": "execute_result"
    }
   ],
   "source": [
    "df_all[\"label\"].value_counts()"
   ]
  },
  {
   "cell_type": "code",
   "execution_count": 48,
   "id": "2b5dd5fd",
   "metadata": {},
   "outputs": [],
   "source": [
    "# my accuracies are\n",
    "#0.57 for 19000 records\n",
    "# 0.65 for 17000 records\n",
    "# 0.87 for 12632 records"
   ]
  },
  {
   "cell_type": "code",
   "execution_count": 49,
   "id": "542f2770",
   "metadata": {},
   "outputs": [
    {
     "data": {
      "image/png": "[encoded data removed]",
      "text/plain": [
       "<Figure size 432x288 with 1 Axes>"
      ]
     },
     "metadata": {
      "needs_background": "light"
     },
     "output_type": "display_data"
    }
   ],
   "source": [
    "from sklearn.metrics import confusion_matrix\n",
    "import seaborn as sns\n",
    "import matplotlib.pyplot as plt\n",
    "\n",
    "# Assuming y_pred and y_true are your predicted and true labels, respectively\n",
    "\n",
    "# Random Forest\n",
    "rf_conf_matrix = confusion_matrix(y_test, y_pred)\n",
    "sns.heatmap(rf_conf_matrix, annot=True, fmt=\"d\", cmap=\"Blues\", cbar=False)\n",
    "plt.title(\"Random Forest Confusion Matrix\")\n",
    "plt.xlabel(\"Predicted\")\n",
    "plt.ylabel(\"True\")\n",
    "plt.show()\n"
   ]
  },
  {
   "cell_type": "code",
   "execution_count": 48,
   "id": "8b19f603",
   "metadata": {},
   "outputs": [],
   "source": [
    "from sklearn.ensemble import GradientBoostingClassifier\n"
   ]
  },
  {
   "cell_type": "code",
   "execution_count": 49,
   "id": "fead5f96",
   "metadata": {},
   "outputs": [
    {
     "data": {
      "text/plain": [
       "label\n",
       "1    17158\n",
       "0    17000\n",
       "Name: count, dtype: int64"
      ]
     },
     "execution_count": 49,
     "metadata": {},
     "output_type": "execute_result"
    }
   ],
   "source": [
    "df_all.label.value_counts()"
   ]
  },
  {
   "cell_type": "code",
   "execution_count": 50,
   "id": "57c06054",
   "metadata": {},
   "outputs": [
    {
     "data": {
      "text/plain": [
       "GradientBoostingClassifier(random_state=42)"
      ]
     },
     "execution_count": 50,
     "metadata": {},
     "output_type": "execute_result"
    }
   ],
   "source": [
    "model_gb = GradientBoostingClassifier(n_estimators=100, random_state=42)\n",
    "model_gb.fit(X_train, y_train)"
   ]
  },
  {
   "cell_type": "code",
   "execution_count": 51,
   "id": "b366a261",
   "metadata": {},
   "outputs": [],
   "source": [
    "y_pred = model_gb.predict(X_test)"
   ]
  },
  {
   "cell_type": "code",
   "execution_count": 52,
   "id": "776c2061",
   "metadata": {},
   "outputs": [],
   "source": [
    "conf_matrix = confusion_matrix(y_test, y_pred)"
   ]
  },
  {
   "cell_type": "code",
   "execution_count": 53,
   "id": "026b2d7f",
   "metadata": {},
   "outputs": [
    {
     "data": {
      "image/png": "[encoded data removed]",
      "text/plain": [
       "<Figure size 576x432 with 2 Axes>"
      ]
     },
     "metadata": {
      "needs_background": "light"
     },
     "output_type": "display_data"
    }
   ],
   "source": [
    "plt.figure(figsize=(8, 6))\n",
    "sns.heatmap(conf_matrix, annot=True, fmt='d', cmap='Blues', xticklabels=model_gb.classes_, yticklabels=model_gb.classes_)\n",
    "plt.title('Confusion Matrix')\n",
    "plt.xlabel('Predicted Label')\n",
    "plt.ylabel('True Label')\n",
    "plt.show()"
   ]
  },
  {
   "cell_type": "code",
   "execution_count": 98,
   "id": "18c6d4e7",
   "metadata": {},
   "outputs": [],
   "source": [
    "plain_matrix = matrix_creation_for_plaintext(\"iniki test iruka? koli vanthucha mutta vanthucha?\",\"absolutize\")\n",
    "new_cipher_text = cipher_generation(plain_matrix,\"absolutize\")"
   ]
  },
  {
   "cell_type": "code",
   "execution_count": 99,
   "id": "9bba8686",
   "metadata": {},
   "outputs": [],
   "source": [
    "new_df = pd.DataFrame(list(new_cipher_text)).transpose()\n",
    "new_df = new_df.applymap(lambda x: ord(x))"
   ]
  },
  {
   "cell_type": "code",
   "execution_count": 100,
   "id": "affd7198",
   "metadata": {},
   "outputs": [
    {
     "data": {
      "text/html": [
       "<div>\n",
       "<style scoped>\n",
       "    .dataframe tbody tr th:only-of-type {\n",
       "        vertical-align: middle;\n",
       "    }\n",
       "\n",
       "    .dataframe tbody tr th {\n",
       "        vertical-align: top;\n",
       "    }\n",
       "\n",
       "    .dataframe thead th {\n",
       "        text-align: right;\n",
       "    }\n",
       "</style>\n",
       "<table border=\"1\" class=\"dataframe\">\n",
       "  <thead>\n",
       "    <tr style=\"text-align: right;\">\n",
       "      <th></th>\n",
       "      <th>0</th>\n",
       "      <th>1</th>\n",
       "      <th>2</th>\n",
       "      <th>3</th>\n",
       "      <th>4</th>\n",
       "      <th>5</th>\n",
       "      <th>6</th>\n",
       "      <th>7</th>\n",
       "      <th>8</th>\n",
       "      <th>9</th>\n",
       "      <th>...</th>\n",
       "      <th>70</th>\n",
       "      <th>71</th>\n",
       "      <th>72</th>\n",
       "      <th>73</th>\n",
       "      <th>74</th>\n",
       "      <th>75</th>\n",
       "      <th>76</th>\n",
       "      <th>77</th>\n",
       "      <th>78</th>\n",
       "      <th>79</th>\n",
       "    </tr>\n",
       "  </thead>\n",
       "  <tbody>\n",
       "    <tr>\n",
       "      <th>0</th>\n",
       "      <td>105</td>\n",
       "      <td>114</td>\n",
       "      <td>97</td>\n",
       "      <td>116</td>\n",
       "      <td>104</td>\n",
       "      <td>122</td>\n",
       "      <td>122</td>\n",
       "      <td>122</td>\n",
       "      <td>110</td>\n",
       "      <td>117</td>\n",
       "      <td>...</td>\n",
       "      <td>122</td>\n",
       "      <td>122</td>\n",
       "      <td>116</td>\n",
       "      <td>105</td>\n",
       "      <td>109</td>\n",
       "      <td>117</td>\n",
       "      <td>122</td>\n",
       "      <td>122</td>\n",
       "      <td>122</td>\n",
       "      <td>122</td>\n",
       "    </tr>\n",
       "  </tbody>\n",
       "</table>\n",
       "<p>1 rows × 80 columns</p>\n",
       "</div>"
      ],
      "text/plain": [
       "    0    1   2    3    4    5    6    7    8    9   ...   70   71   72   73  \\\n",
       "0  105  114  97  116  104  122  122  122  110  117  ...  122  122  116  105   \n",
       "\n",
       "    74   75   76   77   78   79  \n",
       "0  109  117  122  122  122  122  \n",
       "\n",
       "[1 rows x 80 columns]"
      ]
     },
     "execution_count": 100,
     "metadata": {},
     "output_type": "execute_result"
    }
   ],
   "source": [
    "new_df"
   ]
  },
  {
   "cell_type": "code",
   "execution_count": 101,
   "id": "34ffcc1d",
   "metadata": {},
   "outputs": [
    {
     "data": {
      "text/plain": [
       "array([1], dtype=int64)"
      ]
     },
     "execution_count": 101,
     "metadata": {},
     "output_type": "execute_result"
    }
   ],
   "source": [
    "model_rf.predict(new_df)"
   ]
  },
  {
   "cell_type": "code",
   "execution_count": 68,
   "id": "c9911875",
   "metadata": {},
   "outputs": [],
   "source": [
    "# this is generated randomly\n",
    "'gtokhugzswkkxudhxcvubxlfbualzvlyqjpooslwtycesguigrdynrzizubtoglhocnqdrhdbfvjdvrz'\n",
    "\n",
    "plain_matrix = matrix_creation_for_plaintext('gtokhugzswkkxudhxcvubxlfbualzvlyqjpooslwtycesguigrdynrzizubtoglhocnqdrhdbfvjdvrz',\"absolutize\")\n",
    "new_cipher_text = cipher_generation(plain_matrix,\"absolutize\")\n"
   ]
  },
  {
   "cell_type": "code",
   "execution_count": 69,
   "id": "d1da9cb6",
   "metadata": {},
   "outputs": [],
   "source": [
    "new_df = pd.DataFrame(list(new_cipher_text)).transpose()\n",
    "new_df = new_df.applymap(lambda x: ord(x))"
   ]
  },
  {
   "cell_type": "code",
   "execution_count": 70,
   "id": "d0d40d1d",
   "metadata": {},
   "outputs": [
    {
     "data": {
      "text/plain": [
       "array([0], dtype=int64)"
      ]
     },
     "execution_count": 70,
     "metadata": {},
     "output_type": "execute_result"
    }
   ],
   "source": [
    "model_rf.predict(new_df)"
   ]
  },
  {
   "cell_type": "code",
   "execution_count": 71,
   "id": "740b0394",
   "metadata": {},
   "outputs": [],
   "source": [
    "# correctly predicts as 0"
   ]
  },
  {
   "cell_type": "code",
   "execution_count": null,
   "id": "a4c78490",
   "metadata": {},
   "outputs": [],
   "source": [
    "# so not overfit too"
   ]
  }
 ],
 "metadata": {
  "kernelspec": {
   "display_name": "Python 3",
   "language": "python",
   "name": "python3"
  },
  "language_info": {
   "codemirror_mode": {
    "name": "ipython",
    "version": 3
   },
   "file_extension": ".py",
   "mimetype": "text/x-python",
   "name": "python",
   "nbconvert_exporter": "python",
   "pygments_lexer": "ipython3",
   "version": "3.8.8"
  }
 },
 "nbformat": 4,
 "nbformat_minor": 5
}
